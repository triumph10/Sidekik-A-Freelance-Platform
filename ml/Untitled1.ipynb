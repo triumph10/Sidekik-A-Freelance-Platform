{
 "cells": [
  {
   "cell_type": "code",
   "execution_count": 6,
   "id": "c7e974cf-f354-4c04-a85a-44f15b9b32a4",
   "metadata": {},
   "outputs": [],
   "source": [
    "import pandas as pd\n",
    "df_new = pd.read_csv(\"processed_freelancer_dataset.csv\")\n",
    "df_new = df_new.iloc[:, :500]\n",
    "\n",
    "# Save the modified dataset (optional)\n",
    "df_new.to_csv(\"filtered_dataset.csv\", index=False)"
   ]
  },
  {
   "cell_type": "code",
   "execution_count": 7,
   "id": "2bdc7c49-111c-4d20-8f4d-edc3ffc0d3c9",
   "metadata": {},
   "outputs": [],
   "source": [
    "df= pd.read_csv(\"filtered_dataset.csv\")\n"
   ]
  },
  {
   "cell_type": "code",
   "execution_count": 8,
   "id": "99a19b71-cb8a-4564-aa51-7c9527e6fd14",
   "metadata": {},
   "outputs": [
    {
     "data": {
      "text/plain": [
       "(10000, 4)"
      ]
     },
     "execution_count": 8,
     "metadata": {},
     "output_type": "execute_result"
    }
   ],
   "source": [
    "df.shape"
   ]
  },
  {
   "cell_type": "code",
   "execution_count": 9,
   "id": "10b4f5cf-a3d4-4b16-9f13-2d6e8985719d",
   "metadata": {},
   "outputs": [],
   "source": [
    "df= df.iloc[:, :500]\n"
   ]
  },
  {
   "cell_type": "code",
   "execution_count": 10,
   "id": "340f67b4-108f-4b6a-bba2-d7d2b3b86df9",
   "metadata": {},
   "outputs": [
    {
     "data": {
      "text/plain": [
       "(10000, 4)"
      ]
     },
     "execution_count": 10,
     "metadata": {},
     "output_type": "execute_result"
    }
   ],
   "source": [
    "df.shape\n"
   ]
  },
  {
   "cell_type": "code",
   "execution_count": 11,
   "id": "1cf503be-a0ea-48dd-9822-eb1c2ae5056f",
   "metadata": {},
   "outputs": [],
   "source": [
    "columns_to_keep = df.columns[:500]  # Modify with your required columns\n",
    "df = df[columns_to_keep]"
   ]
  },
  {
   "cell_type": "code",
   "execution_count": 12,
   "id": "1606d0ba-ffd1-493b-a8ab-7cde4b286a55",
   "metadata": {},
   "outputs": [
    {
     "data": {
      "text/plain": [
       "(10000, 4)"
      ]
     },
     "execution_count": 12,
     "metadata": {},
     "output_type": "execute_result"
    }
   ],
   "source": [
    "df.shape"
   ]
  },
  {
   "cell_type": "code",
   "execution_count": 13,
   "id": "775c7a8a-5186-4c54-a8cf-b9e61faf4c07",
   "metadata": {},
   "outputs": [
    {
     "data": {
      "text/html": [
       "<div>\n",
       "<style scoped>\n",
       "    .dataframe tbody tr th:only-of-type {\n",
       "        vertical-align: middle;\n",
       "    }\n",
       "\n",
       "    .dataframe tbody tr th {\n",
       "        vertical-align: top;\n",
       "    }\n",
       "\n",
       "    .dataframe thead th {\n",
       "        text-align: right;\n",
       "    }\n",
       "</style>\n",
       "<table border=\"1\" class=\"dataframe\">\n",
       "  <thead>\n",
       "    <tr style=\"text-align: right;\">\n",
       "      <th></th>\n",
       "      <th>Skills</th>\n",
       "      <th>Experience_Level</th>\n",
       "      <th>Description</th>\n",
       "      <th>Budget_Project</th>\n",
       "    </tr>\n",
       "  </thead>\n",
       "  <tbody>\n",
       "    <tr>\n",
       "      <th>0</th>\n",
       "      <td>Mobile Development: hybrid app development, an...</td>\n",
       "      <td>Entry Level</td>\n",
       "      <td>Entry Level Mobile Development professional wi...</td>\n",
       "      <td>$236-$859</td>\n",
       "    </tr>\n",
       "    <tr>\n",
       "      <th>1</th>\n",
       "      <td>Education &amp; Training: training online lms, lea...</td>\n",
       "      <td>Intermediate</td>\n",
       "      <td>Intermediate Education &amp; Training professional...</td>\n",
       "      <td>$514-$2068</td>\n",
       "    </tr>\n",
       "    <tr>\n",
       "      <th>2</th>\n",
       "      <td>Cybersecurity: information security consultati...</td>\n",
       "      <td>Intermediate</td>\n",
       "      <td>Intermediate Cybersecurity professional with e...</td>\n",
       "      <td>$1336-$2228</td>\n",
       "    </tr>\n",
       "    <tr>\n",
       "      <th>3</th>\n",
       "      <td>Education &amp; Training: training, teaching; Gene...</td>\n",
       "      <td>Expert</td>\n",
       "      <td>Expert Education &amp; Training professional with ...</td>\n",
       "      <td>$4680-$7568</td>\n",
       "    </tr>\n",
       "    <tr>\n",
       "      <th>4</th>\n",
       "      <td>DevOps: azure blockchain service, azure app se...</td>\n",
       "      <td>Intermediate</td>\n",
       "      <td>Intermediate DevOps professional with experien...</td>\n",
       "      <td>$1410-$2586</td>\n",
       "    </tr>\n",
       "  </tbody>\n",
       "</table>\n",
       "</div>"
      ],
      "text/plain": [
       "                                              Skills Experience_Level  \\\n",
       "0  Mobile Development: hybrid app development, an...      Entry Level   \n",
       "1  Education & Training: training online lms, lea...     Intermediate   \n",
       "2  Cybersecurity: information security consultati...     Intermediate   \n",
       "3  Education & Training: training, teaching; Gene...           Expert   \n",
       "4  DevOps: azure blockchain service, azure app se...     Intermediate   \n",
       "\n",
       "                                         Description Budget_Project  \n",
       "0  Entry Level Mobile Development professional wi...      $236-$859  \n",
       "1  Intermediate Education & Training professional...     $514-$2068  \n",
       "2  Intermediate Cybersecurity professional with e...    $1336-$2228  \n",
       "3  Expert Education & Training professional with ...    $4680-$7568  \n",
       "4  Intermediate DevOps professional with experien...    $1410-$2586  "
      ]
     },
     "execution_count": 13,
     "metadata": {},
     "output_type": "execute_result"
    }
   ],
   "source": [
    "df.head()"
   ]
  },
  {
   "cell_type": "code",
   "execution_count": null,
   "id": "0cf4293e-4911-4888-92f3-493ea60730e4",
   "metadata": {},
   "outputs": [],
   "source": []
  }
 ],
 "metadata": {
  "kernelspec": {
   "display_name": "Python 3 (ipykernel)",
   "language": "python",
   "name": "python3"
  },
  "language_info": {
   "codemirror_mode": {
    "name": "ipython",
    "version": 3
   },
   "file_extension": ".py",
   "mimetype": "text/x-python",
   "name": "python",
   "nbconvert_exporter": "python",
   "pygments_lexer": "ipython3",
   "version": "3.12.1"
  }
 },
 "nbformat": 4,
 "nbformat_minor": 5
}
